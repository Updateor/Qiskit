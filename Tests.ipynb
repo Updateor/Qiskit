{
 "cells": [
  {
   "cell_type": "code",
   "execution_count": null,
   "metadata": {},
   "outputs": [],
   "source": [
    "import numpy as np\n"
   ]
  }
 ],
 "metadata": {
  "kernelspec": {
   "display_name": "Python 3.8.8 ('base')",
   "language": "python",
   "name": "python3"
  },
  "language_info": {
   "name": "python",
   "version": "3.8.8"
  },
  "orig_nbformat": 4,
  "vscode": {
   "interpreter": {
    "hash": "fd86ae98822e2c74c96a7f1208d20741b86bc93aaf6c22c421a360939b36386b"
   }
  }
 },
 "nbformat": 4,
 "nbformat_minor": 2
}
