{
 "cells": [
  {
   "cell_type": "code",
   "execution_count": 6,
   "metadata": {},
   "outputs": [],
   "source": [
    "import qiskit \n",
    "# Qiskit quantum circuits libraries \n",
    "quantum_circuit = qiskit.circuit.library.QuantumVolume(5) \n",
    "quantum_circuit.measure_all() \n",
    "quantum_circuit.draw() \n",
    "# prepare your circuit to run \n",
    "from qiskit import IBMQ \n",
    "# Get the API token in \n",
    "# https://quantum-computing.ibm.com/ IBMQ.save_account(\"YOUR TOKEN\")   \n",
    "provider = IBMQ.load_account() \n",
    "backend = provider.get_backend('ibmq_quito') \n",
    "optimized_circuit = qiskit.transpile(quantum_circuit, backend) \n",
    "optimized_circuit.draw() \n",
    "# run in real hardware \n",
    "job = backend.run(optimized_circuit) \n",
    "retrieved_job = backend.retrieve_job(job.job_id()) \n",
    "result = retrieved_job.result() \n",
    "print(result.get_counts())"
   ]
  }
 ],
 "metadata": {
  "kernelspec": {
   "display_name": "Python 3.8.8 ('base')",
   "language": "python",
   "name": "python3"
  },
  "language_info": {
   "codemirror_mode": {
    "name": "ipython",
    "version": 3
   },
   "file_extension": ".py",
   "mimetype": "text/x-python",
   "name": "python",
   "nbconvert_exporter": "python",
   "pygments_lexer": "ipython3",
   "version": "3.8.8"
  },
  "orig_nbformat": 4,
  "vscode": {
   "interpreter": {
    "hash": "fd86ae98822e2c74c96a7f1208d20741b86bc93aaf6c22c421a360939b36386b"
   }
  }
 },
 "nbformat": 4,
 "nbformat_minor": 2
}
